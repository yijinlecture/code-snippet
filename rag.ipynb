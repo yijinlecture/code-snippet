{
 "cells": [
  {
   "cell_type": "markdown",
   "id": "af1b39ce",
   "metadata": {},
   "source": [
    "# RAG Basic\n",
    "\n",
    "## 프로세스\n",
    "1. 문서 로드\n",
    "2. 텍스트 분할\n",
    "3. 임베딩\n",
    "4. 벡터DB 저장\n",
    "5. 검색기\n",
    "6. 증강된 프롬프트\n",
    "7. LLM"
   ]
  },
  {
   "cell_type": "markdown",
   "id": "04b8159c",
   "metadata": {},
   "source": [
    "- API 키 환경변수로 관리"
   ]
  },
  {
   "cell_type": "code",
   "execution_count": null,
   "id": "9fde6d35",
   "metadata": {},
   "outputs": [],
   "source": [
    "from dotenv import load_dotenv\n",
    "\n",
    "# API 키 정보 로드\n",
    "load_dotenv()"
   ]
  },
  {
   "cell_type": "markdown",
   "id": "668249a8",
   "metadata": {},
   "source": [
    "- 관련 LangChain 라이브러리 설치 및 임포트"
   ]
  },
  {
   "cell_type": "code",
   "execution_count": null,
   "id": "3222feab",
   "metadata": {},
   "outputs": [],
   "source": [
    "!pip install langchain langchain_community langchain-openai faiss-cpu pymupdf"
   ]
  },
  {
   "cell_type": "code",
   "execution_count": null,
   "id": "75f0ab5e",
   "metadata": {},
   "outputs": [],
   "source": [
    "from langchain_text_splitters import RecursiveCharacterTextSplitter\n",
    "from langchain_community.document_loaders import PyMuPDFLoader\n",
    "from langchain_community.vectorstores import FAISS\n",
    "from langchain_core.output_parsers import StrOutputParser\n",
    "from langchain_core.runnables import RunnablePassthrough\n",
    "from langchain_core.prompts import PromptTemplate\n",
    "from langchain_openai import ChatOpenAI, OpenAIEmbeddings"
   ]
  },
  {
   "cell_type": "markdown",
   "id": "0421d4d8",
   "metadata": {},
   "source": [
    "## 1. 문서 로드"
   ]
  },
  {
   "cell_type": "code",
   "execution_count": null,
   "id": "eba64068",
   "metadata": {},
   "outputs": [],
   "source": [
    "loader = PyMuPDFLoader(\"data/초보 투자자를 위한 증권과 투자 따라잡기.pdf\")\n",
    "docs = loader.load()\n",
    "print(f\"문서의 페이지수: {len(docs)}\")"
   ]
  },
  {
   "cell_type": "code",
   "execution_count": null,
   "id": "61f11370",
   "metadata": {},
   "outputs": [],
   "source": [
    "print(\"===페이지 컨텐츠===\")\n",
    "print(docs[10].page_content)\n",
    "print(\"===metadata===\")\n",
    "print(docs[10].__dict__)"
   ]
  },
  {
   "cell_type": "markdown",
   "id": "ba7e1e07",
   "metadata": {},
   "source": [
    "## 2. 텍스트 분할"
   ]
  },
  {
   "cell_type": "code",
   "execution_count": null,
   "id": "f5f803e3",
   "metadata": {},
   "outputs": [],
   "source": [
    "text_splitter = RecursiveCharacterTextSplitter(chunk_size=500, chunk_overlap=50)\n",
    "split_documents = text_splitter.split_documents(docs)\n",
    "print(f\"분할된 청크의수: {len(split_documents)}\")"
   ]
  },
  {
   "cell_type": "markdown",
   "id": "0d389a3c",
   "metadata": {},
   "source": [
    "## 3. 임베딩(Embedding)"
   ]
  },
  {
   "cell_type": "code",
   "execution_count": null,
   "id": "d2e67aac",
   "metadata": {},
   "outputs": [],
   "source": [
    "embeddings = OpenAIEmbeddings()\n",
    "embeddings"
   ]
  },
  {
   "cell_type": "markdown",
   "id": "e53564ea",
   "metadata": {},
   "source": [
    "# 4. 벡터DB"
   ]
  },
  {
   "cell_type": "code",
   "execution_count": null,
   "id": "a41cf3e6",
   "metadata": {},
   "outputs": [],
   "source": [
    "vectorstore = FAISS.from_documents(documents=split_documents, embedding=embeddings)\n",
    "vectorstore"
   ]
  },
  {
   "cell_type": "code",
   "execution_count": null,
   "id": "23aa06a2",
   "metadata": {},
   "outputs": [],
   "source": [
    "for i, doc in enumerate(vectorstore.similarity_search(\"성장주\")):\n",
    "    print(f\"\\n---문서 청크 {i}---\")\n",
    "    print(doc.page_content)"
   ]
  },
  {
   "cell_type": "markdown",
   "id": "33f26088",
   "metadata": {},
   "source": [
    "## 5. 검색기(Retriever)"
   ]
  },
  {
   "cell_type": "code",
   "execution_count": null,
   "id": "aa2db08f",
   "metadata": {},
   "outputs": [],
   "source": [
    "retriever = vectorstore.as_retriever()\n",
    "# 검색기에 질문 \n",
    "retriever.invoke(\"1980년대의 성장주는 무엇인가?\")"
   ]
  },
  {
   "cell_type": "markdown",
   "id": "e9a3f74d",
   "metadata": {},
   "source": [
    "## 6. 증강된 프롬프트"
   ]
  },
  {
   "cell_type": "code",
   "execution_count": null,
   "id": "8bf39bd5",
   "metadata": {},
   "outputs": [],
   "source": [
    "prompt = PromptTemplate.from_template(\n",
    "    \"\"\"You are an assistant for question-answering tasks. \n",
    "Use the following pieces of retrieved context to answer the question. \n",
    "If you don't know the answer, just say that you don't know. \n",
    "Answer in Korean.\n",
    "\n",
    "#Context: \n",
    "{context}\n",
    "\n",
    "#Question:\n",
    "{question}\n",
    "\n",
    "#Answer:\"\"\"\n",
    ")"
   ]
  },
  {
   "cell_type": "markdown",
   "id": "de683abe",
   "metadata": {},
   "source": [
    "## 7. LLM"
   ]
  },
  {
   "cell_type": "code",
   "execution_count": null,
   "id": "e8400026",
   "metadata": {},
   "outputs": [],
   "source": [
    "llm = ChatOpenAI(model_name=\"gpt-4o-mini\", temperature=0)"
   ]
  },
  {
   "cell_type": "code",
   "execution_count": null,
   "id": "a4520f36",
   "metadata": {},
   "outputs": [],
   "source": [
    "# 체인(Chain) 생성\n",
    "chain = (\n",
    "    {\"context\": retriever, \"question\": RunnablePassthrough()}\n",
    "    | prompt\n",
    "    | llm\n",
    "    | StrOutputParser()\n",
    ")"
   ]
  },
  {
   "cell_type": "code",
   "execution_count": null,
   "id": "91cf9ac9",
   "metadata": {},
   "outputs": [],
   "source": [
    "question = \"1980년대의 성장주는 무엇인가??\"\n",
    "response = chain.invoke(question)\n",
    "print(response)"
   ]
  }
 ],
 "metadata": {
  "kernelspec": {
   "display_name": "Python 3",
   "language": "python",
   "name": "python3"
  },
  "language_info": {
   "codemirror_mode": {
    "name": "ipython",
    "version": 3
   },
   "file_extension": ".py",
   "mimetype": "text/x-python",
   "name": "python",
   "nbconvert_exporter": "python",
   "pygments_lexer": "ipython3",
   "version": "3.11.13"
  }
 },
 "nbformat": 4,
 "nbformat_minor": 5
}
